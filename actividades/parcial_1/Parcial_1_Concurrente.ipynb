{
  "cells": [
    {
      "cell_type": "markdown",
      "metadata": {
        "id": "mdjDysDEjN87"
      },
      "source": [
        "## Programación Concurrente\n",
        "# Primer Parcial\n",
        "\n",
        "Contesta según se te indique. En caso de que la pregunta sea teórica, escribe el texto con la respuesta correcta. Tiene que ser claro y en tus propias palabras o, de lo cotnrario, se te podrán bajar puntos.\n",
        "\n",
        "Al finalizar, descarga el archivo en formato **.pdf** y cárgalo en Blackboard. Tienes máximo una hora para entregarlo, contando desde que entres al espacio en Blackboard.\n",
        "\n",
        "Son 10 preguntas.\n",
        "\n"
      ]
    },
    {
      "cell_type": "markdown",
      "metadata": {
        "id": "c69zRLYNnCyo"
      },
      "source": [
        "1. En Python existen dos formas principales en los que podemos invertir el orden de los elementos de una lista.\n",
        "* `reversed(lista)`\n",
        "*  `lista[::-1]`\n",
        "\n",
        "Diseña un experimento sencillo que mida los tiempos de ejecución (en segundos/milisegundos) de ambos. ¿Cuál ejecuta más rápido?"
      ]
    },
    {
      "cell_type": "code",
      "execution_count": 14,
      "metadata": {
        "id": "bB1qTZgKq2Zk"
      },
      "outputs": [
        {
          "name": "stdout",
          "output_type": "stream",
          "text": [
            "reversed(lista):media 1.8609999096952378e-07\n",
            "reversed(lista):min 9.997165761888027e-08\n",
            "reversed(lista):max 2.3999891709536314e-06\n",
            "reversed(lista):moda 2.00001522898674e-07\n",
            "menos 1:media 1.6829991363920271e-07\n",
            "menos 1:min 9.997165761888027e-08\n",
            "menos 1:max 1.700012944638729e-06\n",
            "menos 1:moda 2.00001522898674e-07\n"
          ]
        }
      ],
      "source": [
        "import time \n",
        "lista = [1,2,3,4,5,6]\n",
        "rvtimes = []\n",
        "menos1times = []\n",
        "\n",
        "for i in range(1000):\n",
        "    starttime = time.perf_counter()\n",
        "    i = reversed(lista)\n",
        "    endtime = time.perf_counter()\n",
        "    rvtime = endtime - starttime\n",
        "    rvtimes.append(rvtime)\n",
        "\n",
        "    starttime = time.perf_counter()\n",
        "    i = lista[::-1]\n",
        "    endtime = time.perf_counter()\n",
        "    menos1time = endtime - starttime\n",
        "    menos1times.append(menos1time)\n",
        "\n",
        "rvmean  = sum(rvtimes)/len(rvtimes)\n",
        "rvmin   = min(rvtimes)\n",
        "rvmax   = max(rvtimes)\n",
        "rvmode  = max(set(rvtimes), key=rvtimes.count)\n",
        "\n",
        "m1mean  = sum(menos1times)/len(menos1times)\n",
        "m1min   = min(menos1times)\n",
        "m1max   = max(menos1times)\n",
        "m1mode  = max(set(menos1times), key=menos1times.count)\n",
        "\n",
        "print(\"reversed(lista):media\", rvmean)\n",
        "print(\"reversed(lista):min\", rvmin)\n",
        "print(\"reversed(lista):max\",rvmax)\n",
        "print(\"reversed(lista):moda\",rvmode)\n",
        "\n",
        "\n",
        "print(\"menos 1:media\", m1mean)\n",
        "print(\"menos 1:min\", m1min)\n",
        "print(\"menos 1:max\",m1max)\n",
        "print(\"menos 1:moda\",m1mode)\n",
        "\n",
        "\n",
        "\n"
      ]
    },
    {
      "cell_type": "markdown",
      "metadata": {},
      "source": [
        "el mas rapido es [::1] porque tiene menor media consistentemente y menor max"
      ]
    },
    {
      "cell_type": "markdown",
      "metadata": {
        "id": "2JrkjoORn02z"
      },
      "source": [
        "2. En Matemáticas Financieras, podemos calcular el valor futuro (usando interés compuesto) de la siguiente manera.\n",
        "\n",
        "$VF = (1+i)^n$\n",
        "\n",
        "Programa una Función, **usando recursión en Python**, que calcule el valor futuro de la inversión en n meses.\n",
        "\n",
        "Nota: La i (interés) será constante, usando *los dos últimos digitos de tu ID de la universidad, divididos entre 100.* Por ejemplo, si mi ID fuera <143915>, i=0.15."
      ]
    },
    {
      "cell_type": "code",
      "execution_count": null,
      "metadata": {
        "id": "gx0uJ0SipGim"
      },
      "outputs": [
        {
          "name": "stdout",
          "output_type": "stream",
          "text": [
            "46857.397884225116\n",
            "46857.39788422513\n"
          ]
        }
      ],
      "source": [
        "# id es 173605 \n",
        "import numpy as np\n",
        "i = 0.36\n",
        "P = 100 \n",
        "n = 20\n",
        "\n",
        "def interes_compuesto( P, i,n):\n",
        "    if n==0:\n",
        "        return P\n",
        "    else:\n",
        "        P = P*(1+ i)\n",
        "        return interes_compuesto( P, i,n-1)\n",
        "    \n",
        "\n",
        "\n",
        "\n",
        "VF = interes_compuesto( P, i,n)\n",
        "\n",
        "print (VF)\n"
      ]
    },
    {
      "cell_type": "markdown",
      "metadata": {
        "id": "ddJV1P1Yp5Dw"
      },
      "source": [
        "3. si tuviéramos problemas con las siguientes complejidades, ¿cuál NO podríamos resolver en tiempo polinomial? Justifica brevemente.\n",
        "\n",
        "\n",
        "a) $O(n^3)$\n",
        "\n",
        "b) $O(log_2 n)$\n",
        "\n",
        "c) $O(sin(n))$\n",
        "\n",
        "d) $O(5^n)$\n",
        "\n"
      ]
    },
    {
      "cell_type": "markdown",
      "metadata": {},
      "source": [
        "D) Porque es crecimiento exponencial "
      ]
    },
    {
      "cell_type": "markdown",
      "metadata": {
        "id": "3yNwTxlJqogT"
      },
      "source": [
        "4. Tienes la siguiente lista:\n",
        "\n",
        "```\n",
        "['Antonio', 'Carlos', 'Diana', 'Hugo', 'Luis', 'Mariana', 'Mario', 'Oscar', 'Ricardo', 'Scarlett', 'Sofia', 'Tristán', 'Valeria']\n",
        "```\n",
        "Si quiero usar Búsqueda Binaria (Binary Search) para verificar si **'Mario'** está en la lista, ¿qué elementos de la lista iré usando para comparar y en qué orden?\n",
        "\n",
        "Ejemplo de Respuesta: 'Ricardo', 'Tristán', 'Valeria', 'Mario'\n",
        "\n",
        "\n",
        "Te dejo un ejemplo del Algoritmo en código, por si lo ocupas:\n",
        "\n",
        "```\n",
        "def binarySearch(alist, item):\n",
        "  first = 0\n",
        "  last = len(alist)-1\n",
        "  found = False\n",
        "\n",
        "  while first<=last and not found:\n",
        "    midpoint = (first + last)//2\n",
        "    if alist[midpoint] == item:\n",
        "      found = True\n",
        "    else:\n",
        "      if item < alist[midpoint]:\n",
        "        last = midpoint-1\n",
        "      else:\n",
        "        first = midpoint+1\n",
        "\n",
        "  return found\n",
        "```\n",
        "\n"
      ]
    },
    {
      "cell_type": "markdown",
      "metadata": {},
      "source": [
        "Solo mario porque esta en el centro "
      ]
    },
    {
      "cell_type": "markdown",
      "metadata": {
        "id": "LKrHJDX9tKsa"
      },
      "source": [
        "5. Trabajo en una empresa de transporte y requiero hacer 5 entregas, todas sobre la Recta a Cholula. Tengo capacidad de hacerlo de tres maneras distintas:\n",
        "\n",
        "a) Voy a dejar un paquete al punto de entrega y regreso al almacen. Recojo el siguiente paquete y lo voy a entregar. Así, hasta que termine. Todo con un solo camión.\n",
        "\n",
        "b) Me llevo los cinco paquetes al mismo tiempo en un solo camión. Como todos los paquetes están en la misma calle, voy entregando uno por uno, conforme voy llegando a los puntos de entrega.\n",
        "\n",
        "c) Tengo dos camiones de entrega. Cada uno va y deja un paquete al punto de entrega y regresa al almacen. Mientras aún haya paquetes, tomo otro y vuelvo a salir.\n",
        "\n",
        "Relaciona cada letra con el concepto que estaría aplicando: \"Secuencial\", \"Concurrencia\", \"Paralelismo\"."
      ]
    },
    {
      "cell_type": "markdown",
      "metadata": {},
      "source": [
        "A) Secuencial\n",
        "B) Concureencia \n",
        "C) Paralelismo"
      ]
    },
    {
      "cell_type": "markdown",
      "metadata": {
        "id": "4ef2OlT6voj_"
      },
      "source": [
        "6. En el ejemplo anterior, ¿cuál funcionaría más rápido? Justifica tu respuesta.|"
      ]
    },
    {
      "cell_type": "markdown",
      "metadata": {},
      "source": [
        "Concurrencia porque es menos viajes "
      ]
    },
    {
      "cell_type": "markdown",
      "metadata": {
        "id": "ugfADTYLv7Bs"
      },
      "source": [
        "7. En el mismo ejemplo, ¿se podría modificar mi solución, para combinar paralelismo y concurrencia? Justifica tu respuesta."
      ]
    },
    {
      "cell_type": "markdown",
      "metadata": {},
      "source": [
        "Si, podriamos cargar un camion la mitad de los paquetes, luego el otro la otra mitad y luego cada uno se va a hacer entrgas al mismo tiempo. "
      ]
    },
    {
      "cell_type": "markdown",
      "metadata": {
        "id": "qkYV256rwEA9"
      },
      "source": [
        "8. Crea una lista con los digitos de tu ID. Por ejemplo, usando el que era el ID de tu profesor <'143915'>, tendríamos esta lista:\n",
        "\n",
        "`[1, 4, 3, 9, 1, 5]`\n",
        "\n",
        "Haz lo mismo con tu propio ID. Contesta: si aplico el _Bubble Sort_, ¿cómo se vería mi lista después de dos pasadas?"
      ]
    },
    {
      "cell_type": "code",
      "execution_count": 13,
      "metadata": {
        "id": "wPx6UyqVwOWn"
      },
      "outputs": [
        {
          "name": "stdout",
          "output_type": "stream",
          "text": [
            "[1, 3, 6, 0, 5, 7]\n",
            "[1, 3, 0, 5, 6, 7]\n",
            "[1, 0, 3, 5, 6, 7]\n",
            "[0, 1, 3, 5, 6, 7]\n",
            "[0, 1, 3, 5, 6, 7]\n"
          ]
        }
      ],
      "source": [
        "id = [1,7,3,6,0,5]\n",
        "\n",
        "def bb(lista):\n",
        "    n = len(lista)\n",
        "    for _ in range(n - 1):\n",
        "        for i in range(n - 1):\n",
        "            a = lista[i]\n",
        "            b = lista[i + 1]\n",
        "            if a > b:\n",
        "                lista[i] = b\n",
        "                lista[i + 1] = a\n",
        "        print(lista)\n",
        "    return lista\n",
        "           \n",
        "orden = bb(id)"
      ]
    },
    {
      "cell_type": "markdown",
      "metadata": {},
      "source": [
        "Las primeras 2 se ven así\n",
        "[1, 3, 6, 0, 5, 7]\n",
        "[1, 3, 0, 5, 6, 7]\n"
      ]
    },
    {
      "cell_type": "markdown",
      "metadata": {
        "id": "NI_GUPv_wwFt"
      },
      "source": [
        "9. Explica en tus propias palabras la diferencia entre un Hilo y un Proceso."
      ]
    },
    {
      "cell_type": "markdown",
      "metadata": {},
      "source": [
        "Un poceso es mas grande que un hilo. en un proceso es como la ejecicion grnade, el programa y los hilos son como sub tareas, esto hilos hacen modificaciones que afectana  otrs hilos y puede haer variables compartidas, los procesos mas bien son independientes unos de otros. Es como ventanas(procesos), dentro de una ventana tengo pestañas(hilos). "
      ]
    },
    {
      "cell_type": "markdown",
      "metadata": {
        "id": "-LqhX191w2hM"
      },
      "source": [
        "10. En Concurrencia, ¿qué concepto está ilustrado en la siguiente imagen?\n",
        "\n",
        "![Dibujo](https://media.geeksforgeeks.org/wp-content/uploads/20230628121708/Mutual-Exclusion-2.png)"
      ]
    },
    {
      "cell_type": "markdown",
      "metadata": {},
      "source": [
        "exclusion mutua, porque es un recurso compartido no lo pueden utlizar o hacer la misma actividad al mismo tiempo"
      ]
    },
    {
      "cell_type": "markdown",
      "metadata": {},
      "source": []
    }
  ],
  "metadata": {
    "colab": {
      "provenance": []
    },
    "kernelspec": {
      "display_name": "Python 3",
      "name": "python3"
    },
    "language_info": {
      "codemirror_mode": {
        "name": "ipython",
        "version": 3
      },
      "file_extension": ".py",
      "mimetype": "text/x-python",
      "name": "python",
      "nbconvert_exporter": "python",
      "pygments_lexer": "ipython3",
      "version": "3.13.3"
    }
  },
  "nbformat": 4,
  "nbformat_minor": 0
}
