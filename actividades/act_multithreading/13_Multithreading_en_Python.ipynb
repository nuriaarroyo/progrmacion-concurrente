{
  "cells": [
    {
      "cell_type": "markdown",
      "metadata": {
        "colab_type": "text",
        "id": "view-in-github"
      },
      "source": [
        "<a href=\"https://colab.research.google.com/github/robertoarturomc/ProgramacionConcurrente/blob/main/13_Multithreading_en_Python.ipynb\" target=\"_parent\"><img src=\"https://colab.research.google.com/assets/colab-badge.svg\" alt=\"Open In Colab\"/></a>"
      ]
    },
    {
      "cell_type": "markdown",
      "metadata": {
        "id": "8UQAJS17EEaI"
      },
      "source": [
        "### Programación Concurrente\n",
        "## 13. Multithreading en Python"
      ]
    },
    {
      "cell_type": "markdown",
      "metadata": {
        "id": "87C-sVN2vRYB"
      },
      "source": [
        "Un **proceso** es una instancia de un programa informático que se está ejecutando\n",
        "\n",
        "Un **hilo** (o hebra; *thread* en Inglés) es una entidad dentro de un proceso que se puede programar para su ejecución. Además, es la unidad de procesamiento más pequeña que se puede realizar en un SO (sistema operativo). En palabras simples, un hilo es una secuencia de instrucciones dentro de un programa que se puede ejecutar independientemente de otro código.\n",
        "\n",
        "\n",
        "![Hilos](https://media.geeksforgeeks.org/wp-content/uploads/20230824111450/multithreading-python-21.png)\n",
        "\n"
      ]
    },
    {
      "cell_type": "markdown",
      "metadata": {
        "id": "Z9mMQhvYxBkz"
      },
      "source": [
        "\n",
        "Cada hilo contiene su propio conjunto de registros y variables locales.\n",
        "Todos los hilos de un proceso comparten variables globales y el código del programa.\n",
        "\n",
        "Un procesador puede ejecutar varios subprocesos simultáneamente. En una CPU simple de un solo núcleo, esto se logra mediante cambios frecuentes entre subprocesos.\n",
        "\n",
        "En Python, esto se puede realizar mediante la librería *threading*."
      ]
    },
    {
      "cell_type": "markdown",
      "metadata": {
        "id": "0fo943F2xDqi"
      },
      "source": [
        "1. Importo la Librería"
      ]
    },
    {
      "cell_type": "code",
      "execution_count": 1,
      "metadata": {
        "id": "xkx1tjdTUPCF"
      },
      "outputs": [],
      "source": [
        "import threading"
      ]
    },
    {
      "cell_type": "markdown",
      "metadata": {
        "id": "NbODnFvCU3H-"
      },
      "source": [
        "2. Crea Hilos\n",
        "\n",
        "Para crear un nuevo hilo, creamos un objeto de la clase **Thread**. Este toma '*target*' y '*args*' como parámetros. El *target* es la función que ejecutará el hilo, mientras que los *args* son los argumentos que se pasarán a la función *target*.\n",
        "\n",
        "\n",
        "```\n",
        "t1 = threading.Thread(target, args)\n",
        "t2 = threading.Thread(target, args)\n",
        "```\n",
        "\n"
      ]
    },
    {
      "cell_type": "markdown",
      "metadata": {
        "id": "-Q-AB2JKxmf_"
      },
      "source": [
        "3. Iniciar un hilo\n",
        "\n",
        "Para iniciar un hilo, utilizamos el método start() de la clase Thread.\n",
        "\n",
        "\n",
        "```\n",
        "t1.start()\n",
        "t2.start()\n",
        "```\n",
        "\n"
      ]
    },
    {
      "cell_type": "markdown",
      "metadata": {
        "id": "iMHC5I4GxwJO"
      },
      "source": [
        "4. Finalizar la ejecución del hilo\n",
        "\n",
        "Mientras no finalice un hilo, este continúa ejecutándose. Para detenerlo, utilizamos el método .join()\n",
        "\n",
        "\n",
        "```\n",
        "t1.join()\n",
        "t2.join()\n",
        "```\n",
        "\n"
      ]
    },
    {
      "cell_type": "markdown",
      "metadata": {
        "id": "xoBHRjj5ywGv"
      },
      "source": [
        "Ejemplo:\n",
        "\n",
        "Vamos a ejecutar un Programa básico: la suma y la resta de dos valores numéricos. Puesto que cada función es independiente de la otra, no debería haber problema entre ellas. Es más, vamos a realizarlo de manera Concurrente, mediante multi-hilos."
      ]
    },
    {
      "cell_type": "code",
      "execution_count": 24,
      "metadata": {
        "colab": {
          "base_uri": "https://localhost:8080/"
        },
        "id": "zoAj1qmeyBP-",
        "outputId": "f5cc4676-5339-4805-f6b6-255644c133ea"
      },
      "outputs": [],
      "source": [
        "\n",
        "def add(a, b):\n",
        "    print(\"La suma es: \", a + b)\n",
        "\n",
        "\n",
        "def sub(a, b):\n",
        "   print(\"La resta es: \", a - b)\n",
        "\n",
        "t1 = threading.Thread(target=add, args=(10,4))\n",
        "t2 = threading.Thread(target=sub, args=(10,4))\n"
      ]
    },
    {
      "cell_type": "code",
      "execution_count": 25,
      "metadata": {},
      "outputs": [
        {
          "name": "stdout",
          "output_type": "stream",
          "text": [
            "La suma es: La resta es:  6\n",
            " 14\n"
          ]
        }
      ],
      "source": [
        "\n",
        "t1.start()\n",
        "t2.start()\n",
        "\n",
        "t1.join(0.90)\n",
        "t2.join(0.0000000003)"
      ]
    },
    {
      "cell_type": "markdown",
      "metadata": {
        "id": "nhZPXIIf2Ura"
      },
      "source": [
        "Ejercicio (se carga en Blackboard):\n",
        "\n",
        "1. Define dos variables, a y b. Dales el valor numérico que tú quieras.\n",
        "\n",
        "2. Crea tres funciones en Python.\n",
        "- La primera va a calcular el logaritmo natural de a+b y va a imprimir el resultado.\n",
        "- La segunda va a calcular el valor absoluto a-b y va a imprimir el resultado.\n",
        "- La tercera va a calcular a elevado a la b potencia y va a imprimir el resultado.\n",
        "\n",
        "2. Corre las tres funciones de manera concurrente, usando multi-hilos.\n",
        "\n",
        "3. Ejecuta nuevamente las tres funciones de manera concurrente. Esta vez, juega con el parámetro _timeout_ del método `.join`. ¿Observas algo raro? Describe qué viste y a qué crees que se deba."
      ]
    },
    {
      "cell_type": "code",
      "execution_count": 30,
      "metadata": {
        "id": "KJLFA89449Yn"
      },
      "outputs": [],
      "source": [
        "\n",
        "import math\n",
        "\n",
        "a = 10\n",
        "b = 4\n",
        "\n",
        "def lng_task():\n",
        "    print(\"El ln de a + b es: \", math.log(a + b))\n",
        "\n",
        "def valor_task():\n",
        "    print(\"El valor absoluto de a - b es: \", abs(a - b))\n",
        "\n",
        "def potencia_task():\n",
        "    print(\"El valor de a elevado a b es: \", math.pow(a, b))\n",
        "\n",
        "t1 = threading.Thread(target=lng_task)\n",
        "t2 = threading.Thread(target=valor_task)   \n",
        "t3 = threading.Thread(target=potencia_task)"
      ]
    },
    {
      "cell_type": "code",
      "execution_count": 31,
      "metadata": {},
      "outputs": [
        {
          "name": "stdout",
          "output_type": "stream",
          "text": [
            "El ln de a + b es: El valor absoluto de a - b es:  6\n",
            " 2.6390573296152584\n",
            "El valor de a elevado a b es:  10000.0\n"
          ]
        }
      ],
      "source": [
        "\n",
        "t1.start()\n",
        "t2.start()\n",
        "t3.start()\n",
        "\n",
        "t1.join(0.90)\n",
        "t2.join(0.00000000000000000000000000000000000000000000000000000000000000000000000000000000000000000000000000000000000000000000000003)\n",
        "t3.join(0.0000000003)"
      ]
    },
    {
      "cell_type": "markdown",
      "metadata": {},
      "source": [
        "En la librería threading podemos trabajar con concurrencia porque podemos controlar el inicio y el fin de varios hilos. Cuando usamos un timeout, le estamos diciendo a un hilo que espere solo cierto tiempo. Eso implica que puede soltar el paso, o sea, deja que otro hilo se ejecute mientras tanto.\n",
        "\n",
        "Esto cambia mucho las cosas porque en programas concurrentes el orden importa. Si un hilo tenía que hacer algo primero, pero se quedó esperando, otro hilo puede adelantarse. Eso puede romper la lógica, hacer que veas datos incompletos, que accedas a una variable antes de que esté lista, o que se activen cosas en momentos en los que no deberían activarse."
      ]
    }
  ],
  "metadata": {
    "colab": {
      "include_colab_link": true,
      "provenance": []
    },
    "kernelspec": {
      "display_name": "Python 3",
      "name": "python3"
    },
    "language_info": {
      "codemirror_mode": {
        "name": "ipython",
        "version": 3
      },
      "file_extension": ".py",
      "mimetype": "text/x-python",
      "name": "python",
      "nbconvert_exporter": "python",
      "pygments_lexer": "ipython3",
      "version": "3.13.3"
    }
  },
  "nbformat": 4,
  "nbformat_minor": 0
}
