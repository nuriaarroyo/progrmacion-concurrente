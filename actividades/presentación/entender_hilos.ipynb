{
 "cells": [
  {
   "cell_type": "markdown",
   "id": "77948545",
   "metadata": {},
   "source": [
    "# **¿Enemigo #1? Global Interpreter Lock en Python**"
   ]
  },
  {
   "cell_type": "code",
   "execution_count": 2,
   "id": "039a2cc6",
   "metadata": {},
   "outputs": [
    {
     "name": "stdout",
     "output_type": "stream",
     "text": [
      "Hola desde un hilo\n",
      "Hola desde un hilo\n",
      "Hola desde un hilo\n",
      "Hola desde un hilo\n",
      "Hola desde un hilo\n",
      "Hola desde un hilo\n"
     ]
    }
   ],
   "source": [
    "import threading\n",
    "\n",
    "def tarea():\n",
    "    for _ in range(3):\n",
    "        print(\"Hola desde un hilo\")\n",
    "\n",
    "# Crear dos hilos\n",
    "hilo1 = threading.Thread(target=tarea)\n",
    "hilo2 = threading.Thread(target=tarea)\n",
    "\n",
    "hilo1.start()\n",
    "hilo2.start()\n",
    "\n",
    "hilo1.join()\n",
    "hilo2.join()\n"
   ]
  },
  {
   "cell_type": "code",
   "execution_count": 4,
   "id": "d481a568",
   "metadata": {},
   "outputs": [
    {
     "name": "stdout",
     "output_type": "stream",
     "text": [
      "Hola desde un proceso\n",
      "Hola desde un proceso\n",
      "Hola desde un proceso\n",
      "Hola desde un proceso\n",
      "Hola desde un proceso\n",
      "Hola desde un proceso\n"
     ]
    }
   ],
   "source": [
    "from multiprocessing import Process\n",
    "\n",
    "def tarea():\n",
    "    for _ in range(3):\n",
    "        print(\"Hola desde un proceso\")\n",
    "\n",
    "# Crear dos procesos\n",
    "p1 = Process(target=tarea())\n",
    "p2 = Process(target=tarea())\n",
    "\n",
    "p1.start()\n",
    "p2.start()\n",
    "\n",
    "p1.join()\n",
    "p2.join()\n"
   ]
  },
  {
   "cell_type": "code",
   "execution_count": 19,
   "id": "79c23b17",
   "metadata": {},
   "outputs": [
    {
     "name": "stdout",
     "output_type": "stream",
     "text": [
      "[    0.959 ms] START thread-A | iter=0 | pid=7804 | tid=24408 | core=4\n",
      "[   18.426 ms] START thread-B | iter=0 | pid=7804 | tid=28716 | core=8\n",
      "[   48.425 ms] END   thread-A | iter=0 | pid=7804 | tid=24408 | core=2 | dur= 47.466 ms\n",
      "[   49.564 ms] START thread-A | iter=1 | pid=7804 | tid=24408 | core=0\n",
      "[   61.485 ms] END   thread-B | iter=0 | pid=7804 | tid=28716 | core=4 | dur= 43.059 ms\n",
      "[   62.189 ms] START thread-B | iter=1 | pid=7804 | tid=28716 | core=8\n",
      "[   79.686 ms] END   thread-A | iter=1 | pid=7804 | tid=24408 | core=6 | dur= 30.122 ms\n",
      "[   80.201 ms] START thread-A | iter=2 | pid=7804 | tid=24408 | core=0\n",
      "[   92.083 ms] END   thread-B | iter=1 | pid=7804 | tid=28716 | core=4 | dur= 29.894 ms\n",
      "[   92.653 ms] START thread-B | iter=2 | pid=7804 | tid=28716 | core=0\n",
      "[  110.465 ms] END   thread-A | iter=2 | pid=7804 | tid=24408 | core=6 | dur= 30.264 ms\n",
      "[  111.098 ms] START thread-A | iter=3 | pid=7804 | tid=24408 | core=4\n",
      "[  123.107 ms] END   thread-B | iter=2 | pid=7804 | tid=28716 | core=0 | dur= 30.454 ms\n",
      "[  124.136 ms] START thread-B | iter=3 | pid=7804 | tid=28716 | core=4\n",
      "[  140.524 ms] END   thread-A | iter=3 | pid=7804 | tid=24408 | core=6 | dur= 29.426 ms\n",
      "[  141.336 ms] START thread-A | iter=4 | pid=7804 | tid=24408 | core=4\n",
      "[  154.949 ms] END   thread-B | iter=3 | pid=7804 | tid=28716 | core=2 | dur= 30.813 ms\n",
      "[  155.789 ms] START thread-B | iter=4 | pid=7804 | tid=28716 | core=4\n",
      "[  172.728 ms] END   thread-A | iter=4 | pid=7804 | tid=24408 | core=4 | dur= 31.392 ms\n",
      "[  173.436 ms] START thread-A | iter=5 | pid=7804 | tid=24408 | core=6\n",
      "[  187.347 ms] END   thread-B | iter=4 | pid=7804 | tid=28716 | core=0 | dur= 31.559 ms\n",
      "[  188.135 ms] START thread-B | iter=5 | pid=7804 | tid=28716 | core=0\n",
      "[  203.471 ms] END   thread-A | iter=5 | pid=7804 | tid=24408 | core=6 | dur= 30.035 ms\n",
      "[  219.552 ms] END   thread-B | iter=5 | pid=7804 | tid=28716 | core=4 | dur= 31.417 ms\n",
      "\n",
      "=== Timeline (orden por tiempo, ms desde t0) ===\n",
      "    0.959 ms | START | thread-A | iter=0 | tid=24408 | core=4\n",
      "   18.426 ms | START | thread-B | iter=0 | tid=28716 | core=8\n",
      "   48.425 ms | END   | thread-A | iter=0 | tid=24408 | core=2\n",
      "   49.564 ms | START | thread-A | iter=1 | tid=24408 | core=0\n",
      "   61.485 ms | END   | thread-B | iter=0 | tid=28716 | core=4\n",
      "   62.189 ms | START | thread-B | iter=1 | tid=28716 | core=8\n",
      "   79.686 ms | END   | thread-A | iter=1 | tid=24408 | core=6\n",
      "   80.201 ms | START | thread-A | iter=2 | tid=24408 | core=0\n",
      "   92.083 ms | END   | thread-B | iter=1 | tid=28716 | core=4\n",
      "   92.653 ms | START | thread-B | iter=2 | tid=28716 | core=0\n",
      "  110.465 ms | END   | thread-A | iter=2 | tid=24408 | core=6\n",
      "  111.098 ms | START | thread-A | iter=3 | tid=24408 | core=4\n",
      "  123.107 ms | END   | thread-B | iter=2 | tid=28716 | core=0\n",
      "  124.136 ms | START | thread-B | iter=3 | tid=28716 | core=4\n",
      "  140.524 ms | END   | thread-A | iter=3 | tid=24408 | core=6\n",
      "  141.336 ms | START | thread-A | iter=4 | tid=24408 | core=4\n",
      "  154.949 ms | END   | thread-B | iter=3 | tid=28716 | core=2\n",
      "  155.789 ms | START | thread-B | iter=4 | tid=28716 | core=4\n",
      "  172.728 ms | END   | thread-A | iter=4 | tid=24408 | core=4\n",
      "  173.436 ms | START | thread-A | iter=5 | tid=24408 | core=6\n",
      "  187.347 ms | END   | thread-B | iter=4 | tid=28716 | core=0\n",
      "  188.135 ms | START | thread-B | iter=5 | tid=28716 | core=0\n",
      "  203.471 ms | END   | thread-A | iter=5 | tid=24408 | core=6\n",
      "  219.552 ms | END   | thread-B | iter=5 | tid=28716 | core=4\n"
     ]
    }
   ],
   "source": [
    "# threading_timeline.py\n",
    "import os, sys, time, datetime as dt, threading\n",
    "\n",
    "# ---- obtener el core actual (Windows/Linux) ----\n",
    "def current_core():\n",
    "    if hasattr(os, \"sched_getcpu\"):\n",
    "        try:\n",
    "            return os.sched_getcpu()\n",
    "        except Exception:\n",
    "            pass\n",
    "    if sys.platform.startswith(\"win\"):\n",
    "        try:\n",
    "            import ctypes\n",
    "            GetCurrentProcessorNumber = ctypes.windll.kernel32.GetCurrentProcessorNumber\n",
    "            GetCurrentProcessorNumber.restype = ctypes.c_uint\n",
    "            return int(GetCurrentProcessorNumber())\n",
    "        except Exception:\n",
    "            pass\n",
    "    return None\n",
    "\n",
    "print_lock = threading.Lock()\n",
    "events = []  # (ts_abs, tag, iter, phase, core, tid)\n",
    "\n",
    "t0 = time.perf_counter()  # referencia común para todos\n",
    "\n",
    "def ms(ts):  # helper: segundos -> ms relativos a t0\n",
    "    return (ts - t0) * 1000.0\n",
    "\n",
    "def trabajo(tag, iters=6, carga=450_000):\n",
    "    tid = threading.get_native_id()\n",
    "    pid = os.getpid()\n",
    "    for k in range(iters):\n",
    "        ts_in = time.perf_counter()\n",
    "        core_in = current_core()\n",
    "        with print_lock:\n",
    "            print(f\"[{ms(ts_in):9.3f} ms] START {tag:<8} | iter={k} | pid={pid} | tid={tid} | core={core_in}\", flush=True)\n",
    "        events.append((ts_in, tag, k, \"START\", core_in, tid))\n",
    "\n",
    "        # --- carga CPU para que el scheduler alterne hilos ---\n",
    "        x = 0\n",
    "        for _ in range(carga):\n",
    "            x += 1\n",
    "        time.sleep(0.02)\n",
    "\n",
    "        ts_out = time.perf_counter()\n",
    "        core_out = current_core()\n",
    "        dur = (ts_out - ts_in) * 1000.0\n",
    "        with print_lock:\n",
    "            print(f\"[{ms(ts_out):9.3f} ms] END   {tag:<8} | iter={k} | pid={pid} | tid={tid} | core={core_out} | dur={dur:7.3f} ms\", flush=True)\n",
    "        events.append((ts_out, tag, k, \"END\", core_out, tid))\n",
    "\n",
    "if __name__ == \"__main__\":\n",
    "    h1 = threading.Thread(target=trabajo, name=\"Hilo-A\", args=(\"thread-A\",))\n",
    "    h2 = threading.Thread(target=trabajo, name=\"Hilo-B\", args=(\"thread-B\",))\n",
    "    h1.start(); h2.start()\n",
    "    h1.join(); h2.join()\n",
    "\n",
    "    # ---- Resumen: línea de tiempo global ordenada ----\n",
    "    events.sort(key=lambda e: e[0])\n",
    "    print(\"\\n=== Timeline (orden por tiempo, ms desde t0) ===\")\n",
    "    for ts_abs, tag, k, phase, core, tid in events:\n",
    "        print(f\"{ms(ts_abs):9.3f} ms | {phase:5} | {tag:<8} | iter={k} | tid={tid} | core={core}\")\n"
   ]
  }
 ],
 "metadata": {
  "kernelspec": {
   "display_name": "Python 3",
   "language": "python",
   "name": "python3"
  },
  "language_info": {
   "codemirror_mode": {
    "name": "ipython",
    "version": 3
   },
   "file_extension": ".py",
   "mimetype": "text/x-python",
   "name": "python",
   "nbconvert_exporter": "python",
   "pygments_lexer": "ipython3",
   "version": "3.13.3"
  }
 },
 "nbformat": 4,
 "nbformat_minor": 5
}
